{
 "cells": [
  {
   "cell_type": "code",
   "execution_count": 1,
   "metadata": {},
   "outputs": [],
   "source": [
    "import gym\n",
    "import random\n",
    "import torch\n",
    "import numpy as np\n",
    "from collections import deque\n",
    "import matplotlib.pyplot as plt\n",
    "import mlflow\n",
    "import wandb\n",
    "import seaborn as sns\n",
    "from IPython.display import display, clear_output\n",
    "import PIL.Image\n",
    "import time\n",
    "import imageio\n",
    "import os\n",
    "%matplotlib inline\n",
    "\n",
    "from nets.Agent import Agent\n",
    "from nets.Policy import Policy"
   ]
  },
  {
   "cell_type": "code",
   "execution_count": 2,
   "metadata": {},
   "outputs": [
    {
     "name": "stderr",
     "output_type": "stream",
     "text": [
      "Failed to detect the name of this notebook, you can set it manually with the WANDB_NOTEBOOK_NAME environment variable to enable code saving.\n",
      "\u001b[34m\u001b[1mwandb\u001b[0m: Currently logged in as: \u001b[33mamoz\u001b[0m (\u001b[33marashmozhdehi\u001b[0m). Use \u001b[1m`wandb login --relogin`\u001b[0m to force relogin\n"
     ]
    },
    {
     "data": {
      "text/html": [
       "Tracking run with wandb version 0.17.4"
      ],
      "text/plain": [
       "<IPython.core.display.HTML object>"
      ]
     },
     "metadata": {},
     "output_type": "display_data"
    },
    {
     "data": {
      "text/html": [
       "Run data is saved locally in <code>/home/arash/MountainCarContinuous-Gym-RL/REINFORCE/wandb/run-20240713_021357-junt1u2o</code>"
      ],
      "text/plain": [
       "<IPython.core.display.HTML object>"
      ]
     },
     "metadata": {},
     "output_type": "display_data"
    },
    {
     "data": {
      "text/html": [
       "Syncing run <strong><a href='https://wandb.ai/arashmozhdehi/PG-MountainCarContinuous/runs/junt1u2o' target=\"_blank\">distinctive-fire-13</a></strong> to <a href='https://wandb.ai/arashmozhdehi/PG-MountainCarContinuous' target=\"_blank\">Weights & Biases</a> (<a href='https://wandb.me/run' target=\"_blank\">docs</a>)<br/>"
      ],
      "text/plain": [
       "<IPython.core.display.HTML object>"
      ]
     },
     "metadata": {},
     "output_type": "display_data"
    },
    {
     "data": {
      "text/html": [
       " View project at <a href='https://wandb.ai/arashmozhdehi/PG-MountainCarContinuous' target=\"_blank\">https://wandb.ai/arashmozhdehi/PG-MountainCarContinuous</a>"
      ],
      "text/plain": [
       "<IPython.core.display.HTML object>"
      ]
     },
     "metadata": {},
     "output_type": "display_data"
    },
    {
     "data": {
      "text/html": [
       " View run at <a href='https://wandb.ai/arashmozhdehi/PG-MountainCarContinuous/runs/junt1u2o' target=\"_blank\">https://wandb.ai/arashmozhdehi/PG-MountainCarContinuous/runs/junt1u2o</a>"
      ],
      "text/plain": [
       "<IPython.core.display.HTML object>"
      ]
     },
     "metadata": {},
     "output_type": "display_data"
    }
   ],
   "source": [
    "# env = gym.make('MountainCarContinuous-v0', render_mode='rgb_array')\n",
    "env = gym.make('LunarLanderContinuous-v2', render_mode='rgb_array')\n",
    "state_size = env.observation_space.shape[0]\n",
    "action_size = env.action_space.shape[0]\n",
    "\n",
    "# Initialize Weights & Biases\n",
    "wandb.init(project=\"PG-MountainCarContinuous\", config={\n",
    "    \"episodes\": 1000,\n",
    "    \"gamma\": 0.99,\n",
    "    \"learning_rate\": 1e-4,\n",
    "    \"state_size\": state_size,  # Dynamically set based on environment\n",
    "    \"action_size\": action_size,  # Dynamically set based on environment\n",
    "    \"random_seed\": 42,\n",
    "    \"fc1_units\": 256,\n",
    "    \"fc2_units\": 128\n",
    "})\n",
    "\n",
    "device = torch.device(\"cuda:0\" if torch.cuda.is_available() else \"cpu\")\n",
    "\n",
    "# Start an MLflow run\n",
    "mlflow.start_run()\n",
    "mlflow.log_params(wandb.config)"
   ]
  },
  {
   "cell_type": "code",
   "execution_count": 3,
   "metadata": {},
   "outputs": [],
   "source": [
    "# Initialize the policy and agent with configurations from wandb\n",
    "policy = Policy(state_size=wandb.config.state_size, action_size=wandb.config.action_size,\n",
    "                seed=wandb.config.random_seed, fc1_units=wandb.config.fc1_units, \n",
    "                fc2_units=wandb.config.fc2_units)\n",
    "agent = Agent(policy=policy, learning_rate=wandb.config.learning_rate, gamma=wandb.config.gamma)"
   ]
  },
  {
   "cell_type": "code",
   "execution_count": 4,
   "metadata": {},
   "outputs": [],
   "source": [
    "os.makedirs('videos', exist_ok=True)\n",
    "os.makedirs('check_points', exist_ok=True)"
   ]
  },
  {
   "cell_type": "code",
   "execution_count": 5,
   "metadata": {},
   "outputs": [],
   "source": [
    "def display_frames_as_gif(frames, path):\n",
    "    with imageio.get_writer(path, mode='I', fps=30) as writer:\n",
    "        for frame in frames:\n",
    "            display(PIL.Image.fromarray(frame))\n",
    "            clear_output(wait=True)\n",
    "            writer.append_data(frame)"
   ]
  },
  {
   "cell_type": "code",
   "execution_count": 6,
   "metadata": {},
   "outputs": [],
   "source": [
    "def load_checkpoint(agent, path):\n",
    "    if os.path.exists(path):\n",
    "        agent.load_checkpoint(path)\n",
    "        print(\"Loaded checkpoint from:\", path)\n",
    "    else:\n",
    "        print(\"No checkpoint found at:\", path)"
   ]
  },
  {
   "cell_type": "code",
   "execution_count": 7,
   "metadata": {},
   "outputs": [
    {
     "data": {
      "image/jpeg": "[encoded data removed]",
      "image/png": "[encoded data removed]",
      "text/plain": [
       "<PIL.Image.Image image mode=RGB size=600x400>"
      ]
     },
     "metadata": {},
     "output_type": "display_data"
    },
    {
     "ename": "",
     "evalue": "",
     "output_type": "error",
     "traceback": [
      "\u001b[1;31mThe Kernel crashed while executing code in the current cell or a previous cell. \n",
      "\u001b[1;31mPlease review the code in the cell(s) to identify a possible cause of the failure. \n",
      "\u001b[1;31mClick <a href='https://aka.ms/vscodeJupyterKernelCrash'>here</a> for more info. \n",
      "\u001b[1;31mView Jupyter <a href='command:jupyter.viewOutput'>log</a> for further details."
     ]
    }
   ],
   "source": [
    "def train_agent(n_episodes=30000, max_t=500, print_every=100, save_every=500, start_from_checkpoint=False):\n",
    "    scores_deque = deque(maxlen=print_every)\n",
    "    scores = []\n",
    "    \n",
    "    # Determine the starting episode based on the checkpoint\n",
    "    last_checkpoint_episode = 0\n",
    "    if start_from_checkpoint:\n",
    "        checkpoint_files = [f for f in os.listdir('check_points') if f.endswith('.pth')]\n",
    "        if checkpoint_files:\n",
    "            last_checkpoint = max(checkpoint_files, key=lambda x: int(x.split('_')[1].split('.')[0]))\n",
    "            last_checkpoint_episode = int(last_checkpoint.split('_')[1].split('.')[0])\n",
    "            agent.policy.load_state_dict(torch.load(os.path.join('check_points', last_checkpoint)))\n",
    "\n",
    "    for i_episode in range(last_checkpoint_episode + 1, n_episodes + 1):\n",
    "        state = env.reset()\n",
    "        if isinstance(state, tuple):\n",
    "                state = np.array(state[0])\n",
    "        score = 0\n",
    "        frames = []\n",
    "        for t in range(max_t):\n",
    "            action, log_prob = agent.act(state)\n",
    "            # next_state, reward, done, _ = env.step(action)\n",
    "            next_state, reward, terminated, truncated, info = env.step(action)\n",
    "            agent.store_transition(log_prob, reward)  # Store log_prob and reward\n",
    "            state = next_state\n",
    "            score += reward\n",
    "            \n",
    "            # Optionally capture the frame for rendering\n",
    "            frame = env.render()  # Ensure to get RGB frames\n",
    "            frames.append(frame)\n",
    "            \n",
    "            if terminated or truncated:\n",
    "                break\n",
    "\n",
    "        scores_deque.append(score)\n",
    "        scores.append(score)\n",
    "        wandb.log({\"Average Score\": np.mean(scores_deque)})\n",
    "        mlflow.log_metric(\"Score\", score, step=i_episode)\n",
    "\n",
    "        # Learning step\n",
    "        agent.learn()\n",
    "\n",
    "        # Save the videos for the episode\n",
    "        if frames:\n",
    "            video_path = os.path.join('videos', f'video_episode_{i_episode}.gif')\n",
    "            display_frames_as_gif(frames, video_path)\n",
    "\n",
    "        # Save model checkpoint\n",
    "        if i_episode % save_every == 0:\n",
    "            checkpoint_path = os.path.join('check_points', f'checkpoint_{i_episode}.pth')\n",
    "            torch.save(agent.policy.state_dict(), checkpoint_path)\n",
    "        \n",
    "    mlflow.end_run()\n",
    "    return scores\n",
    "\n",
    "# Now you can specify whether to start from a checkpoint\n",
    "scores = train_agent(start_from_checkpoint=True)\n",
    "\n",
    "wandb.finish()"
   ]
  },
  {
   "cell_type": "code",
   "execution_count": null,
   "metadata": {},
   "outputs": [],
   "source": []
  }
 ],
 "metadata": {
  "kernelspec": {
   "display_name": "Python 3",
   "language": "python",
   "name": "python3"
  },
  "language_info": {
   "codemirror_mode": {
    "name": "ipython",
    "version": 3
   },
   "file_extension": ".py",
   "mimetype": "text/x-python",
   "name": "python",
   "nbconvert_exporter": "python",
   "pygments_lexer": "ipython3",
   "version": "3.10.12"
  }
 },
 "nbformat": 4,
 "nbformat_minor": 2
}
