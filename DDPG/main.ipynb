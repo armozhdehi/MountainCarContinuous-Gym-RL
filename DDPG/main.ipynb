{
 "cells": [
  {
   "cell_type": "code",
   "execution_count": 1,
   "metadata": {},
   "outputs": [],
   "source": [
    "import gym\n",
    "import random\n",
    "import torch\n",
    "import numpy as np\n",
    "from collections import deque\n",
    "import matplotlib.pyplot as plt\n",
    "import mlflow\n",
    "import wandb\n",
    "import seaborn as sns\n",
    "from IPython.display import display, clear_output\n",
    "import PIL.Image\n",
    "import time\n",
    "import imageio\n",
    "import os\n",
    "%matplotlib inline\n",
    "\n",
    "from nets.DDPGAgent import DDPGAgent"
   ]
  },
  {
   "cell_type": "code",
   "execution_count": 2,
   "metadata": {},
   "outputs": [
    {
     "name": "stderr",
     "output_type": "stream",
     "text": [
      "Failed to detect the name of this notebook, you can set it manually with the WANDB_NOTEBOOK_NAME environment variable to enable code saving.\n",
      "\u001b[34m\u001b[1mwandb\u001b[0m: Currently logged in as: \u001b[33mamoz\u001b[0m (\u001b[33marashmozhdehi\u001b[0m). Use \u001b[1m`wandb login --relogin`\u001b[0m to force relogin\n"
     ]
    },
    {
     "data": {
      "text/html": [
       "Tracking run with wandb version 0.17.4"
      ],
      "text/plain": [
       "<IPython.core.display.HTML object>"
      ]
     },
     "metadata": {},
     "output_type": "display_data"
    },
    {
     "data": {
      "text/html": [
       "Run data is saved locally in <code>/home/arash/MountainCarContinuous-Gym-RL/DDPG/wandb/run-20240712_232919-nis5fkzf</code>"
      ],
      "text/plain": [
       "<IPython.core.display.HTML object>"
      ]
     },
     "metadata": {},
     "output_type": "display_data"
    },
    {
     "data": {
      "text/html": [
       "Syncing run <strong><a href='https://wandb.ai/arashmozhdehi/DDPG-MountainCarContinuous/runs/nis5fkzf' target=\"_blank\">divine-vortex-1</a></strong> to <a href='https://wandb.ai/arashmozhdehi/DDPG-MountainCarContinuous' target=\"_blank\">Weights & Biases</a> (<a href='https://wandb.me/run' target=\"_blank\">docs</a>)<br/>"
      ],
      "text/plain": [
       "<IPython.core.display.HTML object>"
      ]
     },
     "metadata": {},
     "output_type": "display_data"
    },
    {
     "data": {
      "text/html": [
       " View project at <a href='https://wandb.ai/arashmozhdehi/DDPG-MountainCarContinuous' target=\"_blank\">https://wandb.ai/arashmozhdehi/DDPG-MountainCarContinuous</a>"
      ],
      "text/plain": [
       "<IPython.core.display.HTML object>"
      ]
     },
     "metadata": {},
     "output_type": "display_data"
    },
    {
     "data": {
      "text/html": [
       " View run at <a href='https://wandb.ai/arashmozhdehi/DDPG-MountainCarContinuous/runs/nis5fkzf' target=\"_blank\">https://wandb.ai/arashmozhdehi/DDPG-MountainCarContinuous/runs/nis5fkzf</a>"
      ],
      "text/plain": [
       "<IPython.core.display.HTML object>"
      ]
     },
     "metadata": {},
     "output_type": "display_data"
    }
   ],
   "source": [
    "env = gym.make('MountainCarContinuous-v0', render_mode='rgb_array')\n",
    "state_size = env.observation_space.shape[0]\n",
    "action_size = env.action_space.shape[0]\n",
    "\n",
    "# Initialize Weights & Biases\n",
    "wandb.init(project=\"DDPG-MountainCarContinuous\", config={\n",
    "    \"episodes\": 1000,\n",
    "    \"batch_size\": 128,\n",
    "    \"buffer_size\": int(1e5),\n",
    "    \"gamma\": 0.99,\n",
    "    \"tau\": 1e-3,\n",
    "    \"actor_lr\": 1e-4,\n",
    "    \"critic_lr\": 1e-3,\n",
    "    \"weight_decay\": 0,\n",
    "    \"state_size\": 3,    # Assuming state size and action size are constants, you can also make them configurable\n",
    "    \"action_size\": 1,\n",
    "    \"random_seed\": 42\n",
    "})\n",
    "\n",
    "# Start an MLflow run\n",
    "mlflow.start_run()\n",
    "mlflow.log_params(wandb.config)"
   ]
  },
  {
   "cell_type": "code",
   "execution_count": 3,
   "metadata": {},
   "outputs": [],
   "source": [
    "os.makedirs('videos', exist_ok=True)\n",
    "os.makedirs('check_points', exist_ok=True)"
   ]
  },
  {
   "cell_type": "code",
   "execution_count": 4,
   "metadata": {},
   "outputs": [],
   "source": [
    "agent = DDPGAgent(\n",
    "    state_size=state_size,\n",
    "    action_size=action_size,\n",
    "    random_seed=wandb.config.random_seed,\n",
    "    batch_size=wandb.config.batch_size,\n",
    "    buffer_size=wandb.config.buffer_size,\n",
    "    gamma=wandb.config.gamma,\n",
    "    tau=wandb.config.tau,\n",
    "    actor_lr=wandb.config.actor_lr,\n",
    "    critic_lr=wandb.config.critic_lr,\n",
    "    weight_decay=wandb.config.weight_decay\n",
    ")"
   ]
  },
  {
   "cell_type": "code",
   "execution_count": 5,
   "metadata": {},
   "outputs": [],
   "source": [
    "def display_frames_as_gif(frames, path):\n",
    "    with imageio.get_writer(path, mode='I', fps=30) as writer:\n",
    "        for frame in frames:\n",
    "            display(PIL.Image.fromarray(frame))\n",
    "            clear_output(wait=True)\n",
    "            writer.append_data(frame)"
   ]
  },
  {
   "cell_type": "code",
   "execution_count": 6,
   "metadata": {},
   "outputs": [],
   "source": [
    "def load_checkpoint(agent, path):\n",
    "    if os.path.exists(path):\n",
    "        agent.load_checkpoint(path)\n",
    "        print(\"Loaded checkpoint from:\", path)\n",
    "    else:\n",
    "        print(\"No checkpoint found at:\", path)"
   ]
  },
  {
   "cell_type": "code",
   "execution_count": 7,
   "metadata": {},
   "outputs": [
    {
     "data": {
      "image/jpeg": "[encoded data removed]",
      "image/png": "[encoded data removed]",
      "text/plain": [
       "<PIL.Image.Image image mode=RGB size=600x400>"
      ]
     },
     "metadata": {},
     "output_type": "display_data"
    }
   ],
   "source": [
    "def ddpg(n_episodes=3000, max_t=300, print_every=100, save_every=500, start_from_checkpoint=False):\n",
    "    scores_deque = deque(maxlen=print_every)\n",
    "    scores = []\n",
    "    \n",
    "    # Determine the starting episode based on the checkpoint\n",
    "    last_checkpoint_episode = 0\n",
    "    if start_from_checkpoint:\n",
    "        checkpoint_files = [f for f in os.listdir('check_points') if f.endswith('.pth')]\n",
    "        if checkpoint_files:\n",
    "            last_checkpoint = max(checkpoint_files, key=lambda x: int(x.split('_')[1].split('.')[0]))\n",
    "            last_checkpoint_episode = int(last_checkpoint.split('_')[1].split('.')[0])\n",
    "            load_checkpoint(agent, os.path.join('check_points', last_checkpoint))\n",
    "\n",
    "    for i_episode in range(last_checkpoint_episode + 1, n_episodes + 1):\n",
    "        state = env.reset()\n",
    "        agent.reset()\n",
    "        score = 0\n",
    "        frames = []\n",
    "        for t in range(max_t):\n",
    "            if isinstance(state, tuple):\n",
    "                state = np.array(state[0])\n",
    "            state = np.array(state, dtype=np.float32)\n",
    "            action = agent.act(state)\n",
    "            next_state, reward, terminated, truncated, info = env.step(action)\n",
    "            next_state = np.array(next_state, dtype=np.float32)\n",
    "            agent.step(state, action, reward, next_state, terminated or truncated)\n",
    "            state = next_state\n",
    "            score += reward\n",
    "            \n",
    "            # Capture the frame\n",
    "            frame = env.render()  # Ensure to get RGB frames\n",
    "            frames.append(frame)\n",
    "            \n",
    "            if terminated or truncated:\n",
    "                break\n",
    "\n",
    "        scores_deque.append(score)\n",
    "        scores.append(score)\n",
    "        wandb.log({\"Average Score\": np.mean(scores_deque)})\n",
    "        mlflow.log_metric(\"Score\", score, step=i_episode)\n",
    "\n",
    "        # Save the videos for the episode\n",
    "        videos_path = os.path.join('videos', f'videos_episode_{i_episode}.gif')\n",
    "        display_frames_as_gif(frames, videos_path)\n",
    "\n",
    "        # Save model checkpoint\n",
    "        if i_episode % save_every == 0:\n",
    "            checkpoint_path = os.path.join('check_points', f'checkpoint_{i_episode}.pth')\n",
    "            agent.save_checkpoint(checkpoint_path)\n",
    "        \n",
    "    mlflow.end_run()\n",
    "    return scores\n",
    "\n",
    "# Now you can specify whether to start from a checkpoint\n",
    "scores = ddpg(start_from_checkpoint=True)\n",
    "\n",
    "wandb.finish()"
   ]
  }
 ],
 "metadata": {
  "kernelspec": {
   "display_name": "Python 3",
   "language": "python",
   "name": "python3"
  },
  "language_info": {
   "codemirror_mode": {
    "name": "ipython",
    "version": 3
   },
   "file_extension": ".py",
   "mimetype": "text/x-python",
   "name": "python",
   "nbconvert_exporter": "python",
   "pygments_lexer": "ipython3",
   "version": "3.10.12"
  }
 },
 "nbformat": 4,
 "nbformat_minor": 2
}
